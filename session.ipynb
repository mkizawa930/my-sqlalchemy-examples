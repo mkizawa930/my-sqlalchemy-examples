{
 "cells": [
  {
   "cell_type": "code",
   "execution_count": 1,
   "metadata": {},
   "outputs": [],
   "source": [
    "from sqlalchemy import create_engine, Text, String, Integer\n",
    "from sqlalchemy.orm import sessionmaker, declarative_base, mapped_column, Mapped\n",
    "\n",
    "engine = create_engine('sqlite:///:memory:')\n",
    "\n",
    "Base = declarative_base()\n",
    "\n",
    "Session = sessionmaker(bind=engine)"
   ]
  },
  {
   "cell_type": "code",
   "execution_count": 2,
   "metadata": {},
   "outputs": [],
   "source": [
    "class User(Base):\n",
    "    __tablename__ = 'users'\n",
    "\n",
    "    id: Mapped[int] = mapped_column(primary_key=True)\n",
    "    email:  Mapped[str] = mapped_column(Text, nullable=False)\n",
    "\n",
    "\n",
    "Base.metadata.create_all(engine)"
   ]
  },
  {
   "cell_type": "code",
   "execution_count": 3,
   "metadata": {},
   "outputs": [
    {
     "name": "stdout",
     "output_type": "stream",
     "text": [
      "<sqlalchemy.engine.base.Connection object at 0x10d43ffe0>\n",
      "test@example.com\n"
     ]
    }
   ],
   "source": [
    "session = Session()\n",
    "\n",
    "session.add(User(email=\"test@example.com\"))\n",
    "session.commit()\n",
    "\n",
    "session.close()\n",
    "print(session.connection())\n",
    "\n",
    "# session.add(User(email=\"test2@example.com\"))\n",
    "# session.commit()\n",
    "\n",
    "# session = Session()\n",
    "users = session.query(User).all()\n",
    "for user in users:\n",
    "    print(user.email)"
   ]
  },
  {
   "cell_type": "code",
   "execution_count": null,
   "metadata": {},
   "outputs": [],
   "source": []
  }
 ],
 "metadata": {
  "kernelspec": {
   "display_name": ".venv",
   "language": "python",
   "name": "python3"
  },
  "language_info": {
   "codemirror_mode": {
    "name": "ipython",
    "version": 3
   },
   "file_extension": ".py",
   "mimetype": "text/x-python",
   "name": "python",
   "nbconvert_exporter": "python",
   "pygments_lexer": "ipython3",
   "version": "3.12.2"
  }
 },
 "nbformat": 4,
 "nbformat_minor": 2
}
