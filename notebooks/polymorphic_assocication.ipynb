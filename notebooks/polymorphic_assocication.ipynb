{
 "cells": [
  {
   "cell_type": "markdown",
   "metadata": {},
   "source": [
    "# ポリモーフィック関連"
   ]
  },
  {
   "cell_type": "code",
   "execution_count": 1,
   "metadata": {},
   "outputs": [],
   "source": [
    "from enum import StrEnum\n",
    "from sqlalchemy import Enum, ForeignKey, Integer, String\n",
    "from sqlalchemy.orm import DeclarativeBase, Mapped, mapped_column, relationship, backref\n",
    "\n",
    "from app.db.sqlite import engine\n",
    "\n",
    "class AddressType(StrEnum):\n",
    "    Home = \"Home\"\n",
    "    Office = \"Office\"\n",
    "    Other = \"Other\"\n",
    "\n",
    "class Base(DeclarativeBase):\n",
    "    pass\n",
    "\n",
    "\n",
    "class Address(Base):\n",
    "    __tablename__ = \"addresses\"\n",
    "\n",
    "    id: Mapped[int] = mapped_column(Integer, primary_key=True)\n",
    "    address_type: Mapped[str] = mapped_column(String, nullable=False)\n",
    "\n",
    "    __mapper_args__ = {\n",
    "        \"polymorphic_on\": \"address_type\",\n",
    "        \"polymorphic_identity\": \"address\"\n",
    "    }\n",
    "\n",
    "\n",
    "class UserAddress(Address):\n",
    "    __tablename__ = \"user_addresses\"\n",
    "\n",
    "    id: Mapped[int] = mapped_column(ForeignKey(\"addresses.id\"), primary_key=True)\n",
    "    user_id: Mapped[int] = mapped_column(Integer, ForeignKey(\"users.id\"), nullable=False)\n",
    "    user: Mapped[\"User\"] = relationship(\"User\", back_populates=\"address\")\n",
    "    \n",
    "    __mapper_args__ = {\n",
    "        \"polymorphic_identity\": \"user_address\"\n",
    "    }\n",
    "\n",
    "\n",
    "class User(Base):\n",
    "    __tablename__ = \"users\"\n",
    "    \n",
    "    id: Mapped[int] = mapped_column(Integer, primary_key=True)\n",
    "    name: Mapped[str] = mapped_column(String(30), nullable=False)\n",
    "    address: Mapped[\"UserAddress\"] = relationship(\"UserAddress\", back_populates=\"user\", cascade=\"all, delete\")\n",
    "\n",
    "Base.metadata.create_all(engine)"
   ]
  },
  {
   "cell_type": "code",
   "execution_count": 7,
   "metadata": {},
   "outputs": [
    {
     "name": "stdout",
     "output_type": "stream",
     "text": [
      "<__main__.User object at 0x125094470> <__main__.UserAddress object at 0x125105940>\n"
     ]
    }
   ],
   "source": [
    "from sqlalchemy import select\n",
    "from app.db.sqlite import Session\n",
    "\n",
    "# cascade=all, deleteを設定すると関連付けした親テーブルを子テーブルを削除するタイミングで削除できる\n",
    "with Session() as db:\n",
    "    user = User(name=\"test\", address=UserAddress())\n",
    "    db.add(user)\n",
    "\n",
    "    db.commit()\n",
    "    db.refresh(user)\n",
    "\n",
    "    print(user, user.address)\n",
    "    assert user.address.id > 0\n",
    "\n",
    "    result = db.execute(select(Address)).all()\n",
    "    assert len(result) == 1\n",
    "\n",
    "    db.delete(user)\n",
    "    db.commit()\n",
    "\n",
    "    assert db.scalar(select(User).where(User.id == user.id)) is None\n",
    "\n",
    "    result = db.execute(select(Address)).all()\n",
    "    assert len(result) == 0\n",
    "    "
   ]
  },
  {
   "cell_type": "code",
   "execution_count": null,
   "metadata": {},
   "outputs": [],
   "source": []
  }
 ],
 "metadata": {
  "kernelspec": {
   "display_name": ".venv",
   "language": "python",
   "name": "python3"
  },
  "language_info": {
   "codemirror_mode": {
    "name": "ipython",
    "version": 3
   },
   "file_extension": ".py",
   "mimetype": "text/x-python",
   "name": "python",
   "nbconvert_exporter": "python",
   "pygments_lexer": "ipython3",
   "version": "3.12.2"
  }
 },
 "nbformat": 4,
 "nbformat_minor": 2
}
