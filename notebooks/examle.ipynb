{
 "cells": [
  {
   "cell_type": "code",
   "execution_count": 1,
   "metadata": {},
   "outputs": [],
   "source": [
    "from app.db.sqlite import engine, Session\n",
    "from app.models import Base\n",
    "\n",
    "Base.metadata.create_all(engine)"
   ]
  },
  {
   "cell_type": "code",
   "execution_count": null,
   "metadata": {},
   "outputs": [],
   "source": [
    "from sqlalchemy import select\n",
    "from app.models import User, UserAddress\n",
    "\n",
    "with Session() as db:\n",
    "    user = User(email=\"test@example.com\", username=\"test user\")\n",
    "    user.user_addresses = [\n",
    "        UserAddress(zip_code=\"123-4567\", prefecture=\"東京都\", city=\"新宿区歌舞伎町\", street=\"1-2-3\",  last_name=\"田中\", first_name=\"太郎\", sequence=1),\n",
    "        UserAddress(zip_code=\"456-7891\", prefecture=\"東京都\", city=\"新宿区西新宿\", street=\"4-5-6\",  last_name=\"服部\", first_name=\"翔太\", sequence=2),\n",
    "    ]\n",
    "    \n",
    "    db.add(user)\n",
    "    db.commit()\n",
    "    "
   ]
  },
  {
   "cell_type": "code",
   "execution_count": 3,
   "metadata": {},
   "outputs": [
    {
     "name": "stdout",
     "output_type": "stream",
     "text": [
      "user=User(email=test@example.com), username=test user\n"
     ]
    }
   ],
   "source": [
    "with Session() as db:\n",
    "    user = db.scalars(select(User).join(UserAddress).where(User.email == \"test@example.com\")).first()\n",
    "    print(f\"user={user}\")"
   ]
  }
 ],
 "metadata": {
  "kernelspec": {
   "display_name": ".venv",
   "language": "python",
   "name": "python3"
  },
  "language_info": {
   "codemirror_mode": {
    "name": "ipython",
    "version": 3
   },
   "file_extension": ".py",
   "mimetype": "text/x-python",
   "name": "python",
   "nbconvert_exporter": "python",
   "pygments_lexer": "ipython3",
   "version": "3.12.2"
  }
 },
 "nbformat": 4,
 "nbformat_minor": 2
}
