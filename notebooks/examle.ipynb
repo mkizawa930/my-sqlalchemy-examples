{
 "cells": [
  {
   "cell_type": "code",
   "execution_count": 1,
   "metadata": {},
   "outputs": [],
   "source": [
    "from app.db.sqlite import engine, Session\n",
    "from app.models import Base\n",
    "\n",
    "Base.metadata.create_all(engine)"
   ]
  },
  {
   "cell_type": "code",
   "execution_count": null,
   "metadata": {},
   "outputs": [
    {
     "ename": "AttributeError",
     "evalue": "'User' object has no attribute 'first'",
     "output_type": "error",
     "traceback": [
      "\u001b[31m---------------------------------------------------------------------------\u001b[39m",
      "\u001b[31mAttributeError\u001b[39m                            Traceback (most recent call last)",
      "\u001b[36mCell\u001b[39m\u001b[36m \u001b[39m\u001b[32mIn[2]\u001b[39m\u001b[32m, line 16\u001b[39m\n\u001b[32m     13\u001b[39m     db.commit()\n\u001b[32m     15\u001b[39m \u001b[38;5;28;01mwith\u001b[39;00m Session() \u001b[38;5;28;01mas\u001b[39;00m db:\n\u001b[32m---> \u001b[39m\u001b[32m16\u001b[39m     user = \u001b[43mdb\u001b[49m\u001b[43m.\u001b[49m\u001b[43mscalar\u001b[49m\u001b[43m(\u001b[49m\u001b[43mselect\u001b[49m\u001b[43m(\u001b[49m\u001b[43mUser\u001b[49m\u001b[43m)\u001b[49m\u001b[43m.\u001b[49m\u001b[43mjoin\u001b[49m\u001b[43m(\u001b[49m\u001b[43mUserAddress\u001b[49m\u001b[43m)\u001b[49m\u001b[43m.\u001b[49m\u001b[43mwhere\u001b[49m\u001b[43m(\u001b[49m\u001b[43mUser\u001b[49m\u001b[43m.\u001b[49m\u001b[43memail\u001b[49m\u001b[43m \u001b[49m\u001b[43m==\u001b[49m\u001b[43m \u001b[49m\u001b[33;43m\"\u001b[39;49m\u001b[33;43mtest@example.com\u001b[39;49m\u001b[33;43m\"\u001b[39;49m\u001b[43m)\u001b[49m\u001b[43m)\u001b[49m\u001b[43m.\u001b[49m\u001b[43mfirst\u001b[49m()\n\u001b[32m     17\u001b[39m     \u001b[38;5;28mprint\u001b[39m(\u001b[33mf\u001b[39m\u001b[33m\"\u001b[39m\u001b[33muser=\u001b[39m\u001b[38;5;132;01m{\u001b[39;00muser\u001b[38;5;132;01m}\u001b[39;00m\u001b[33m\"\u001b[39m)\n",
      "\u001b[31mAttributeError\u001b[39m: 'User' object has no attribute 'first'"
     ]
    }
   ],
   "source": [
    "from sqlalchemy import select\n",
    "from app.models import User, UserAddress\n",
    "\n",
    "\n",
    "with Session() as db:\n",
    "    user = User(email=\"test@example.com\", username=\"test user\")\n",
    "    user.user_addresses = [\n",
    "        UserAddress(zip_code=\"123-4567\", prefecture=\"東京都\", city=\"新宿区歌舞伎町\", street=\"1-2-3\",  last_name=\"田中\", first_name=\"太郎\", sequence=1),\n",
    "        UserAddress(zip_code=\"456-7891\", prefecture=\"東京都\", city=\"新宿区西新宿\", street=\"4-5-6\",  last_name=\"服部\", first_name=\"翔太\", sequence=2),\n",
    "    ]\n",
    "    \n",
    "    db.add(user)\n",
    "    db.commit()\n",
    "    "
   ]
  },
  {
   "cell_type": "code",
   "execution_count": 3,
   "metadata": {},
   "outputs": [
    {
     "name": "stdout",
     "output_type": "stream",
     "text": [
      "user=<app.models.User object at 0x104f1e6c0>\n"
     ]
    }
   ],
   "source": [
    "with Session() as db:\n",
    "    user = db.scalars(select(User).join(UserAddress).where(User.email == \"test@example.com\")).first()\n",
    "    print(f\"user={user}\")"
   ]
  },
  {
   "cell_type": "code",
   "execution_count": null,
   "metadata": {},
   "outputs": [],
   "source": []
  }
 ],
 "metadata": {
  "kernelspec": {
   "display_name": ".venv",
   "language": "python",
   "name": "python3"
  },
  "language_info": {
   "codemirror_mode": {
    "name": "ipython",
    "version": 3
   },
   "file_extension": ".py",
   "mimetype": "text/x-python",
   "name": "python",
   "nbconvert_exporter": "python",
   "pygments_lexer": "ipython3",
   "version": "3.12.2"
  }
 },
 "nbformat": 4,
 "nbformat_minor": 2
}
